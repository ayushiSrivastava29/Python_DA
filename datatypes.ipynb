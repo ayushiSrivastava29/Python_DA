{
 "cells": [
  {
   "cell_type": "code",
   "execution_count": 7,
   "metadata": {},
   "outputs": [
    {
     "name": "stdout",
     "output_type": "stream",
     "text": [
      "{'name': 'Ayushi', 'age': 22, 'city': 'Lucknow', 'state': 'Uttar Pradesh'}\n"
     ]
    }
   ],
   "source": [
    "employee = {\n",
    "    'name' : 'Ayushi' ,\n",
    "    'age' : 22 ,\n",
    "    'city' : 'Lucknow',\n",
    "    'state' : 'Uttar Pradesh'\n",
    "}\n",
    "print(employee)"
   ]
  },
  {
   "cell_type": "code",
   "execution_count": 5,
   "metadata": {},
   "outputs": [
    {
     "name": "stdout",
     "output_type": "stream",
     "text": [
      "Ginny\n"
     ]
    }
   ],
   "source": [
    "characters = [\"Harry\" , \"Hermoine\" , \"Draco\", \"Hagrid\" , \"Lily\" , \"Ginny\" , \"Neville\"]\n",
    "print (characters[5])"
   ]
  },
  {
   "cell_type": "code",
   "execution_count": 3,
   "metadata": {},
   "outputs": [
    {
     "name": "stdout",
     "output_type": "stream",
     "text": [
      "Draco\n"
     ]
    }
   ],
   "source": [
    "characters = [\"Harry\" , \"Hermoine\" , \"Draco\", \"Hagrid\"]\n",
    "print (characters[2])"
   ]
  },
  {
   "cell_type": "code",
   "execution_count": null,
   "metadata": {},
   "outputs": [],
   "source": []
  },
  {
   "cell_type": "markdown",
   "metadata": {},
   "source": [
    "datatypes in python\n",
    "integer , float , boolean , none , string , list , set, dictionary , tuple \n",
    " -- list is an ordered sequence of elememts , denoted by []\n",
    " -- set is an unordered sequence of elements , denoted by {} "
   ]
  }
 ],
 "metadata": {
  "kernelspec": {
   "display_name": "Python 3",
   "language": "python",
   "name": "python3"
  },
  "language_info": {
   "codemirror_mode": {
    "name": "ipython",
    "version": 3
   },
   "file_extension": ".py",
   "mimetype": "text/x-python",
   "name": "python",
   "nbconvert_exporter": "python",
   "pygments_lexer": "ipython3",
   "version": "3.12.4"
  }
 },
 "nbformat": 4,
 "nbformat_minor": 2
}
