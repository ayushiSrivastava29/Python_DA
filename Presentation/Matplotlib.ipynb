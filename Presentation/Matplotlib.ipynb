{
 "cells": [
  {
   "cell_type": "markdown",
   "metadata": {},
   "source": [
    "MATPLOTLIB - Visual representation of a dataset"
   ]
  },
  {
   "cell_type": "code",
   "execution_count": 2,
   "metadata": {},
   "outputs": [],
   "source": [
    "import matplotlib"
   ]
  },
  {
   "cell_type": "code",
   "execution_count": 3,
   "metadata": {},
   "outputs": [
    {
     "name": "stdout",
     "output_type": "stream",
     "text": [
      "3.10.1\n"
     ]
    }
   ],
   "source": [
    "print(matplotlib.__version__)"
   ]
  },
  {
   "cell_type": "code",
   "execution_count": null,
   "metadata": {},
   "outputs": [],
   "source": [
    "#creating a Figure and axes\n",
    "fig, ax= plt.subplots()\n",
    "#setting the background color\n",
    "fig.set_facecolor('grey')\n",
    "ax.set_facecolor('yellow')\n",
    "#plotting the data\n",
    "x = [1,2,3,,4,5,6,7,8,9,10]\n",
    "y = [23,56,67,34,12,56,23,67,89,12]\n",
    "ax.plot(x,y,\n",
    "        marker ='o',\n",
    "        markersize = 5,\n",
    "        linestyle = ':',\n",
    "        color = 'red',\n",
    "        linewidth = 2,\n",
    "        markerfacecolor = 'blue,'\n",
    "        markeredgecolor = 'black',\n",
    "        alpha = 0.8,)\n",
    "#setting the labels\n",
    "ax.set_xlabel('X-axis', fontsize = 15)\n",
    "ax.set_ylabel('Y-axis', fontsize = 15)\n",
    "#setting the title\n",
    "ax.set_title('Line Plot' , fontsize = 20, color ='red') "
   ]
  }
 ],
 "metadata": {
  "kernelspec": {
   "display_name": "base",
   "language": "python",
   "name": "python3"
  },
  "language_info": {
   "codemirror_mode": {
    "name": "ipython",
    "version": 3
   },
   "file_extension": ".py",
   "mimetype": "text/x-python",
   "name": "python",
   "nbconvert_exporter": "python",
   "pygments_lexer": "ipython3",
   "version": "3.12.9"
  }
 },
 "nbformat": 4,
 "nbformat_minor": 2
}
