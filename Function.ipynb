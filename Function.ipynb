{
 "cells": [
  {
   "cell_type": "markdown",
   "metadata": {},
   "source": [
    "Functions and Recursion"
   ]
  },
  {
   "cell_type": "code",
   "execution_count": 4,
   "metadata": {},
   "outputs": [],
   "source": [
    "#fuction declaration\n",
    "def fgreet():\n",
    "    print(\"Good Morning\")\n",
    "    print(\"Lets go for a python programmer\")"
   ]
  },
  {
   "cell_type": "code",
   "execution_count": 5,
   "metadata": {},
   "outputs": [
    {
     "name": "stdout",
     "output_type": "stream",
     "text": [
      "Good Morning\n",
      "Lets go for a python programmer\n"
     ]
    }
   ],
   "source": [
    "# fuction calling\n",
    "fgreet()"
   ]
  },
  {
   "cell_type": "code",
   "execution_count": null,
   "metadata": {},
   "outputs": [
    {
     "name": "stdout",
     "output_type": "stream",
     "text": [
      "6\n"
     ]
    }
   ],
   "source": [
    "# Parameterized function\n",
    "# non - returned function\n",
    "def add(a,b,c): #parameters\n",
    "    print(a+b+c)\n",
    "\n",
    "add(1,2,3) #arguments"
   ]
  },
  {
   "cell_type": "code",
   "execution_count": null,
   "metadata": {},
   "outputs": [
    {
     "name": "stdout",
     "output_type": "stream",
     "text": [
      "36\n"
     ]
    }
   ],
   "source": [
    "# parametrized function\n",
    "# Return function\n",
    "def add(a,b,c): \n",
    "    return a+b+c\n",
    "\n",
    "x = add(12,11,13)\n",
    "print(x)"
   ]
  },
  {
   "cell_type": "code",
   "execution_count": 14,
   "metadata": {},
   "outputs": [],
   "source": [
    "#default parametrized function\n",
    "def my_country(country = 'India'):\n",
    "    print(\"I am from \" + country)"
   ]
  },
  {
   "cell_type": "code",
   "execution_count": 15,
   "metadata": {},
   "outputs": [
    {
     "name": "stdout",
     "output_type": "stream",
     "text": [
      "I am from Austria\n",
      "I am from Oman\n",
      "I am from Wellington DC\n",
      "I am from India\n"
     ]
    }
   ],
   "source": [
    "my_country(\"Austria\")\n",
    "my_country(\"Oman\")\n",
    "my_country(\"Wellington DC\")\n",
    "my_country()"
   ]
  },
  {
   "cell_type": "code",
   "execution_count": 16,
   "metadata": {},
   "outputs": [
    {
     "name": "stdout",
     "output_type": "stream",
     "text": [
      "Coffee\n",
      "Cold drink\n",
      "Tea\n",
      "Milkshake\n"
     ]
    }
   ],
   "source": [
    "# loops on collection of items\n",
    "def my_drinks(drinks):\n",
    "    for a in drinks:\n",
    "        print(a)\n",
    "\n",
    "liquids = [\"Coffee\",\"Cold drink\", \"Tea\" , \"Milkshake\"]\n",
    "my_drinks(liquids)"
   ]
  },
  {
   "cell_type": "markdown",
   "metadata": {},
   "source": [
    "Lambda Functions"
   ]
  },
  {
   "cell_type": "code",
   "execution_count": null,
   "metadata": {},
   "outputs": [
    {
     "name": "stdout",
     "output_type": "stream",
     "text": [
      "8\n"
     ]
    }
   ],
   "source": [
    "# lambda functions makes easy for a coder to wrap up a codes of 2 3 lines into a single line code\n",
    "sum = lambda a,b,c : a*b*c\n",
    "print(sum(1,2,4))"
   ]
  },
  {
   "cell_type": "markdown",
   "metadata": {},
   "source": [
    "Practice questions"
   ]
  },
  {
   "cell_type": "code",
   "execution_count": null,
   "metadata": {},
   "outputs": [
    {
     "name": "stdout",
     "output_type": "stream",
     "text": [
      "44 is not a prime number\n"
     ]
    }
   ],
   "source": [
    "# check a number is prime or not\n",
    "\n",
    "def is_prime(n):\n",
    "    if n < 2:\n",
    "        return False\n",
    "    for i in range(2, n):  \n",
    "        if n % i == 0:\n",
    "            return False\n",
    "    return True       \n",
    "n = int(input(\"Enter a number: \"))\n",
    "\n",
    "if is_prime(n):\n",
    "    print(f\"{n} is a prime number\")\n",
    "else :\n",
    "    print(f\"{n} is not a prime number\")\n"
   ]
  },
  {
   "cell_type": "code",
   "execution_count": 7,
   "metadata": {},
   "outputs": [
    {
     "name": "stdout",
     "output_type": "stream",
     "text": [
      "Reversed String:  ihsuyA\n"
     ]
    }
   ],
   "source": [
    "# Reverse of a string\n",
    "def rev_str(name):\n",
    "    return name[::-1]\n",
    "\n",
    "text= input(\"Enter a String: \")\n",
    "print(\"Reversed String: \",rev_str(text))\n"
   ]
  },
  {
   "cell_type": "code",
   "execution_count": 11,
   "metadata": {},
   "outputs": [
    {
     "name": "stdout",
     "output_type": "stream",
     "text": [
      "Your BMI is:  2.8479886080455676\n"
     ]
    }
   ],
   "source": [
    "# BMI Calculation\n",
    "def calculate_bmi(weight, height):\n",
    "    bmi = weight / (height ** 2)  \n",
    "    return bmi\n",
    "\n",
    "weight = float(input(\"Enter your weight in kg: \"))\n",
    "height = float(input(\"Enter your height in meters: \"))\n",
    "\n",
    "bmi = calculate_bmi(weight, height)\n",
    "print(\"Your BMI is: \",bmi)\n"
   ]
  },
  {
   "cell_type": "code",
   "execution_count": null,
   "metadata": {},
   "outputs": [],
   "source": [
    "# Temperature Converter\n",
    "def cel_to_fah(celsius):\n",
    "    fahrenheit = celsius * 9/5\n",
    "    return "
   ]
  }
 ],
 "metadata": {
  "kernelspec": {
   "display_name": "Python 3",
   "language": "python",
   "name": "python3"
  },
  "language_info": {
   "codemirror_mode": {
    "name": "ipython",
    "version": 3
   },
   "file_extension": ".py",
   "mimetype": "text/x-python",
   "name": "python",
   "nbconvert_exporter": "python",
   "pygments_lexer": "ipython3",
   "version": "3.12.4"
  }
 },
 "nbformat": 4,
 "nbformat_minor": 2
}
