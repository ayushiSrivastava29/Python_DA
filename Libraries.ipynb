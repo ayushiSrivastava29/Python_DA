{
 "cells": [
  {
   "cell_type": "markdown",
   "metadata": {},
   "source": [
    "Libraries in Python"
   ]
  },
  {
   "cell_type": "code",
   "execution_count": 34,
   "metadata": {},
   "outputs": [],
   "source": [
    "import math"
   ]
  },
  {
   "cell_type": "code",
   "execution_count": 35,
   "metadata": {},
   "outputs": [
    {
     "name": "stdout",
     "output_type": "stream",
     "text": [
      "25.0\n",
      "120\n",
      "3.141592653589793\n",
      "2.302585092994046\n",
      "0.8939966636005579\n",
      "10\n"
     ]
    }
   ],
   "source": [
    "print(math.sqrt(625))\n",
    "print(math.factorial(5))\n",
    "print(math.pi)\n",
    "print(math.log(10))\n",
    "print(math.sin(90))\n",
    "print(math.gcd(10,30))"
   ]
  },
  {
   "cell_type": "code",
   "execution_count": 36,
   "metadata": {},
   "outputs": [],
   "source": [
    "from random import random, randint, choice, shuffle"
   ]
  },
  {
   "cell_type": "code",
   "execution_count": 37,
   "metadata": {},
   "outputs": [
    {
     "name": "stdout",
     "output_type": "stream",
     "text": [
      "Get a random number between 0 and 1:  0.38975389243810843\n",
      "Get a random number between 10 and 20:  14\n",
      "Get a random number between the choices:  22\n",
      "Shuffled apps are:  ['Instagram', 'DigiLocker', 'Amazon', 'Meesho']\n"
     ]
    }
   ],
   "source": [
    "print(\"Get a random number between 0 and 1: \",random())\n",
    "print(\"Get a random number between 10 and 20: \",randint(10,20))\n",
    "print(\"Get a random number between the choices: \",choice([22,21,34,21,34]))\n",
    "apps =[\"DigiLocker\",\"Meesho\",\"Amazon\",\"Instagram\"]\n",
    "shuffle(apps)\n",
    "print(\"Shuffled apps are: \",apps)"
   ]
  },
  {
   "cell_type": "code",
   "execution_count": 44,
   "metadata": {},
   "outputs": [
    {
     "name": "stdout",
     "output_type": "stream",
     "text": [
      "0.6229016948897019\n"
     ]
    }
   ],
   "source": [
    "import random\n",
    "random.seed(5)\n",
    "print(random.random())"
   ]
  },
  {
   "cell_type": "code",
   "execution_count": null,
   "metadata": {},
   "outputs": [],
   "source": [
    "from datetime import datetime as dt "
   ]
  },
  {
   "cell_type": "code",
   "execution_count": null,
   "metadata": {},
   "outputs": [
    {
     "name": "stdout",
     "output_type": "stream",
     "text": [
      "Current Date and Time:  2025-03-05 17:48:28.453209\n",
      "Current Day:  5\n",
      "Current Month:  3\n",
      "Current Hour:  17\n",
      "Current Minute:  48\n",
      "Current Year:  2025\n"
     ]
    }
   ],
   "source": [
    "print(\"Current Date and Time: \",dt.now())\n",
    "print(\"Current Day: \",dt.now().day)\n",
    "print(\"Current Month: \",dt.now().month)\n",
    "print(\"Current Hour: \",dt.now().hour)\n",
    "print(\"Current Minute: \",dt.now().minute)\n",
    "print(\"Current Year: \",dt.now().year)"
   ]
  },
  {
   "cell_type": "code",
   "execution_count": 58,
   "metadata": {},
   "outputs": [
    {
     "name": "stdout",
     "output_type": "stream",
     "text": [
      "Current day name:  Wednesday\n",
      "Current month name:  March\n",
      "Current name:  Wed Mar  5 17:57:50 2025\n",
      "Current name:  03/05/25\n",
      "Current name:  2025\n"
     ]
    }
   ],
   "source": [
    "print(\"Current day name: \",dt.now().strftime('%A'))\n",
    "print(\"Current month name: \",dt.now().strftime('%B'))\n",
    "print(\"Current name: \",dt.now().strftime('%c'))\n",
    "print(\"Current name: \",dt.now().strftime('%D'))\n",
    "print(\"Current name: \",dt.now().strftime('%G'))"
   ]
  },
  {
   "cell_type": "code",
   "execution_count": 59,
   "metadata": {},
   "outputs": [],
   "source": [
    "import os"
   ]
  },
  {
   "cell_type": "code",
   "execution_count": 60,
   "metadata": {},
   "outputs": [
    {
     "name": "stdout",
     "output_type": "stream",
     "text": [
      "Current working Directory:  c:\\Users\\Ayushi Srivastava\\OneDrive\\Desktop\\Python_DA\n"
     ]
    }
   ],
   "source": [
    "print(\"Current working Directory: \",os.getcwd())"
   ]
  },
  {
   "cell_type": "code",
   "execution_count": 62,
   "metadata": {},
   "outputs": [
    {
     "name": "stdout",
     "output_type": "stream",
     "text": [
      "Files in a current Directory:  ['.git', 'conditions.ipynb', 'datatypes.ipynb', 'dict.ipynb', 'Function.ipynb', 'index.ipynb', 'Libraries.ipynb', 'PythonQuestions.ipynb']\n",
      "8 files found\n"
     ]
    }
   ],
   "source": [
    "files = os.listdir()\n",
    "print(\"Files in a current Directory: \",files)\n",
    "print(len(files), 'files found')"
   ]
  },
  {
   "cell_type": "code",
   "execution_count": null,
   "metadata": {},
   "outputs": [
    {
     "name": "stdout",
     "output_type": "stream",
     "text": [
      "Files in current directory:  ['JC.minor.pptx', 'jc.report.doc', 'Project_report_1[1].doc', 'Resume', 'WhatsApp Image .jpg']\n"
     ]
    }
   ],
   "source": [
    "#check all the files in the given path of the directory\n",
    "files = os.listdir(r\"C:\\Users\\Ayushi Srivastava\\OneDrive\\Desktop\\College Work\\Minor_Project_Files\")\n",
    "print('Files in current directory: ',files)"
   ]
  },
  {
   "cell_type": "code",
   "execution_count": null,
   "metadata": {},
   "outputs": [
    {
     "name": "stdout",
     "output_type": "stream",
     "text": [
      "path -  C:\n",
      "path -  ['.git']\n",
      "path -  ['conditions.ipynb', 'datatypes.ipynb', 'dict.ipynb', 'Function.ipynb', 'index.ipynb', 'Libraries.ipynb', 'PythonQuestions.ipynb']\n",
      "path -  C:.git\n",
      "path -  ['hooks', 'info', 'logs', 'objects', 'refs']\n",
      "path -  ['COMMIT_EDITMSG', 'config', 'description', 'FETCH_HEAD', 'HEAD', 'index']\n",
      "path -  C:.git\\hooks\n",
      "path -  []\n",
      "path -  ['applypatch-msg.sample', 'commit-msg.sample', 'fsmonitor-watchman.sample', 'post-update.sample', 'pre-applypatch.sample', 'pre-commit.sample', 'pre-merge-commit.sample', 'pre-push.sample', 'pre-rebase.sample', 'pre-receive.sample', 'prepare-commit-msg.sample', 'push-to-checkout.sample', 'sendemail-validate.sample', 'update.sample']\n",
      "path -  C:.git\\info\n",
      "path -  []\n",
      "path -  ['exclude']\n",
      "path -  C:.git\\logs\n",
      "path -  ['refs']\n",
      "path -  ['HEAD']\n",
      "path -  C:.git\\logs\\refs\n",
      "path -  ['heads', 'remotes']\n",
      "path -  []\n",
      "path -  C:.git\\logs\\refs\\heads\n",
      "path -  []\n",
      "path -  ['main']\n",
      "path -  C:.git\\logs\\refs\\remotes\n",
      "path -  ['origin']\n",
      "path -  []\n",
      "path -  C:.git\\logs\\refs\\remotes\\origin\n",
      "path -  []\n",
      "path -  ['HEAD', 'main']\n",
      "path -  C:.git\\objects\n",
      "path -  ['25', '39', 'b1', 'b6', 'd6', 'e0', 'e7', 'info', 'pack']\n",
      "path -  []\n",
      "path -  C:.git\\objects\\25\n",
      "path -  []\n",
      "path -  ['5e7f9203c883f425dd2a1c4d4bd5101ee641cc']\n",
      "path -  C:.git\\objects\\39\n",
      "path -  []\n",
      "path -  ['f79ca35db341aa415c70c4cb996bf7c4bdda06']\n",
      "path -  C:.git\\objects\\b1\n",
      "path -  []\n",
      "path -  ['21d4b289be1f4146da70726f5d02ef62485838']\n",
      "path -  C:.git\\objects\\b6\n",
      "path -  []\n",
      "path -  ['443736ad96008dace7f3b96321960d8c1300d8']\n",
      "path -  C:.git\\objects\\d6\n",
      "path -  []\n",
      "path -  ['2304c366156477657006529caf59a7dde02407']\n",
      "path -  C:.git\\objects\\e0\n",
      "path -  []\n",
      "path -  ['513f08e78cde416c00f916acbadbff87b609fb']\n",
      "path -  C:.git\\objects\\e7\n",
      "path -  []\n",
      "path -  ['0cfff983c41f566574f13e0a73df0260705eeb']\n",
      "path -  C:.git\\objects\\info\n",
      "path -  []\n",
      "path -  []\n",
      "path -  C:.git\\objects\\pack\n",
      "path -  []\n",
      "path -  []\n",
      "path -  C:.git\\refs\n",
      "path -  ['heads', 'remotes', 'tags']\n",
      "path -  []\n",
      "path -  C:.git\\refs\\heads\n",
      "path -  []\n",
      "path -  ['main']\n",
      "path -  C:.git\\refs\\remotes\n",
      "path -  ['origin']\n",
      "path -  []\n",
      "path -  C:.git\\refs\\remotes\\origin\n",
      "path -  []\n",
      "path -  ['HEAD', 'main']\n",
      "path -  C:.git\\refs\\tags\n",
      "path -  []\n",
      "path -  []\n",
      "Total files found:  0\n"
     ]
    }
   ],
   "source": [
    "#walk method - used to check all the files from the C drive\n",
    "total_files= 0\n",
    "for path, folders, files in os.walk('C:'):\n",
    "    print('path - ',path)\n",
    "    print('path - ',folders)\n",
    "    print('path - ',files)\n",
    "    total_files =+len(files)\n",
    "print('Total files found: ',total_files)"
   ]
  },
  {
   "cell_type": "code",
   "execution_count": 69,
   "metadata": {},
   "outputs": [
    {
     "name": "stdout",
     "output_type": "stream",
     "text": [
      "File Exists\n",
      "Folder Size:  4096 bytes\n",
      "Folder Size:  4.0 KB\n",
      "Folder Size:  0.00390625 MB\n",
      "Folder Size:  3.814697265625e-06 GB\n"
     ]
    }
   ],
   "source": [
    "#check for a file exists of which kb\n",
    "file = r\"C:\\Users\\Ayushi Srivastava\\OneDrive\\Desktop\\College Work\\Minor_Project_Files\"\n",
    "if os.path.exists(file):\n",
    "    print('File Exists')\n",
    "    size = os.path.getsize(file)\n",
    "    print('Folder Size: ',size, 'bytes')\n",
    "    print('Folder Size: ',size/1024, 'KB')\n",
    "    print('Folder Size: ',size/1024/1024, 'MB')\n",
    "    print('Folder Size: ',size/1024/1024/1024, 'GB')"
   ]
  },
  {
   "cell_type": "code",
   "execution_count": null,
   "metadata": {},
   "outputs": [],
   "source": []
  }
 ],
 "metadata": {
  "kernelspec": {
   "display_name": "Python 3",
   "language": "python",
   "name": "python3"
  },
  "language_info": {
   "codemirror_mode": {
    "name": "ipython",
    "version": 3
   },
   "file_extension": ".py",
   "mimetype": "text/x-python",
   "name": "python",
   "nbconvert_exporter": "python",
   "pygments_lexer": "ipython3",
   "version": "3.12.4"
  }
 },
 "nbformat": 4,
 "nbformat_minor": 2
}
