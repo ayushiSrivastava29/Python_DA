{
 "cells": [
  {
   "cell_type": "markdown",
   "metadata": {},
   "source": [
    "Data Analysis -- Numpy Library"
   ]
  },
  {
   "cell_type": "markdown",
   "metadata": {},
   "source": [
    "- Numpy is used for working with arrays in python \n",
    "- Created by Travis Oliphant in 2005\n",
    "- It is an open source project"
   ]
  },
  {
   "cell_type": "code",
   "execution_count": null,
   "metadata": {},
   "outputs": [
    {
     "name": "stdout",
     "output_type": "stream",
     "text": [
      "[1 2 3 4 5 6]\n",
      "[2 3 4 5 6]\n",
      "1\n",
      "1\n"
     ]
    }
   ],
   "source": [
    "import numpy as np\n",
    "# 1-d Array\n",
    "a = np.array([1,2,3,4,5,6])\n",
    "b = np.array([2,3,4,5,6])\n",
    "print(a)\n",
    "print(b)\n",
    "\n",
    "print(a.ndim) # Finds the dimensions of the array\n",
    "print(b.ndim)"
   ]
  },
  {
   "cell_type": "code",
   "execution_count": null,
   "metadata": {},
   "outputs": [
    {
     "name": "stdout",
     "output_type": "stream",
     "text": [
      "2.1.0\n",
      "42\n",
      "0\n"
     ]
    }
   ],
   "source": [
    "import numpy as np\n",
    "print(np.__version__)\n",
    "\n",
    "#Creating a 0 Dimensional Array\n",
    "arr = np.array(42)\n",
    "print(arr)\n",
    "print(arr.ndim)"
   ]
  },
  {
   "cell_type": "code",
   "execution_count": null,
   "metadata": {},
   "outputs": [
    {
     "name": "stdout",
     "output_type": "stream",
     "text": [
      "[[1 2]\n",
      " [5 6]]\n",
      "<class 'numpy.ndarray'>\n",
      "(2, 2)\n",
      "int64\n"
     ]
    },
    {
     "data": {
      "text/plain": [
       "array([ 3,  5,  7,  9, 11, 13, 15, 17, 19, 21, 23, 25, 27, 29])"
      ]
     },
     "execution_count": 18,
     "metadata": {},
     "output_type": "execute_result"
    }
   ],
   "source": [
    "#Creating a 2d array\n",
    "arr1= np.array([[1,2],[5,6]])\n",
    "print(arr1)\n",
    "print(type(arr1))\n",
    "\n",
    "print(arr1.shape)\n",
    "print(arr1.dtype)\n",
    "\n",
    "np.arange(5)\n",
    "np.arange(3,30,2)\n"
   ]
  },
  {
   "cell_type": "code",
   "execution_count": null,
   "metadata": {},
   "outputs": [
    {
     "data": {
      "text/plain": [
       "array([[14, 29, 22, 11, 20],\n",
       "       [22, 10, 27, 13, 16]], dtype=int32)"
      ]
     },
     "execution_count": 19,
     "metadata": {},
     "output_type": "execute_result"
    }
   ],
   "source": [
    "np.random.randint(10,30, size=(2,5))"
   ]
  },
  {
   "cell_type": "code",
   "execution_count": 30,
   "metadata": {},
   "outputs": [
    {
     "name": "stdout",
     "output_type": "stream",
     "text": [
      "[[2 3 4]\n",
      " [3 4 5]\n",
      " [7 8 9]]\n",
      "[[1 2 3]\n",
      " [9 0 3]\n",
      " [3 4 5]]\n",
      "12\n",
      "7\n",
      "[[ 41  20  35]\n",
      " [ 54  26  46]\n",
      " [106  50  90]]\n"
     ]
    }
   ],
   "source": [
    "x = np.array([[2,3,4],\n",
    "             [3,4,5],\n",
    "             [7,8,9]])\n",
    "print(x)\n",
    "y = np.array([[1,2,3],\n",
    "              [9,0,3],\n",
    "              [3,4,5]])\n",
    "print(y)\n",
    "print(x[2,1] + y[2,1])\n",
    "print(x[0,2] + y[1,2])\n",
    "\n",
    "#matrix multiplication\n",
    "print(x@y)"
   ]
  },
  {
   "cell_type": "code",
   "execution_count": 26,
   "metadata": {},
   "outputs": [
    {
     "name": "stdout",
     "output_type": "stream",
     "text": [
      "[[ 41  20  35]\n",
      " [ 54  26  46]\n",
      " [106  50  90]]\n"
     ]
    }
   ],
   "source": [
    "print(x.dot(y))"
   ]
  },
  {
   "cell_type": "code",
   "execution_count": null,
   "metadata": {},
   "outputs": [
    {
     "name": "stdout",
     "output_type": "stream",
     "text": [
      "[[ 2  6 12]\n",
      " [27  0 15]\n",
      " [21 32 45]]\n"
     ]
    }
   ],
   "source": [
    "print(x*y)"
   ]
  },
  {
   "cell_type": "code",
   "execution_count": null,
   "metadata": {},
   "outputs": [
    {
     "data": {
      "text/plain": [
       "np.int64(725760)"
      ]
     },
     "execution_count": 31,
     "metadata": {},
     "output_type": "execute_result"
    }
   ],
   "source": [
    "x.prod() #product of all elements"
   ]
  },
  {
   "cell_type": "code",
   "execution_count": null,
   "metadata": {},
   "outputs": [
    {
     "data": {
      "text/plain": [
       "np.float64(5.0)"
      ]
     },
     "execution_count": 33,
     "metadata": {},
     "output_type": "execute_result"
    }
   ],
   "source": [
    "x.sum()"
   ]
  },
  {
   "cell_type": "code",
   "execution_count": 34,
   "metadata": {},
   "outputs": [
    {
     "data": {
      "text/plain": [
       "np.float64(5.0)"
      ]
     },
     "execution_count": 34,
     "metadata": {},
     "output_type": "execute_result"
    }
   ],
   "source": [
    "x.mean()"
   ]
  },
  {
   "cell_type": "code",
   "execution_count": null,
   "metadata": {},
   "outputs": [
    {
     "data": {
      "text/plain": [
       "array([4., 5., 6.])"
      ]
     },
     "execution_count": 35,
     "metadata": {},
     "output_type": "execute_result"
    }
   ],
   "source": [
    "x.mean(axis=0) #mean of each column"
   ]
  },
  {
   "cell_type": "code",
   "execution_count": 36,
   "metadata": {},
   "outputs": [
    {
     "data": {
      "text/plain": [
       "array([3., 4., 8.])"
      ]
     },
     "execution_count": 36,
     "metadata": {},
     "output_type": "execute_result"
    }
   ],
   "source": [
    "x.mean(axis=1)"
   ]
  },
  {
   "cell_type": "code",
   "execution_count": 39,
   "metadata": {},
   "outputs": [
    {
     "name": "stdout",
     "output_type": "stream",
     "text": [
      "5.333333333333333\n",
      "2.309401076758503\n",
      "9\n"
     ]
    }
   ],
   "source": [
    "print(x.var()) \n",
    "print(x.std())\n",
    "print(x.max())"
   ]
  },
  {
   "cell_type": "code",
   "execution_count": 48,
   "metadata": {},
   "outputs": [
    {
     "name": "stdout",
     "output_type": "stream",
     "text": [
      "3.5\n",
      "2.25\n"
     ]
    }
   ],
   "source": [
    "z = np.array([1,2,3,2,3,4,5,7,8,9])\n",
    "print(np.median(z))\n",
    "print(np.percentile(z, 25))"
   ]
  },
  {
   "cell_type": "code",
   "execution_count": 49,
   "metadata": {},
   "outputs": [
    {
     "name": "stdout",
     "output_type": "stream",
     "text": [
      "[[16 44 46 49]\n",
      " [10 12 22 21]\n",
      " [11 23 35 20]\n",
      " [43 23 22 12]]\n"
     ]
    }
   ],
   "source": [
    "ar = np.array([[16,44,46,49],[10,12,22,21],[11,23,35,20],[43,23,22,12]])\n",
    "print(ar)"
   ]
  },
  {
   "cell_type": "code",
   "execution_count": 51,
   "metadata": {},
   "outputs": [
    {
     "name": "stdout",
     "output_type": "stream",
     "text": [
      "8x2\n",
      "[[16 44]\n",
      " [46 49]\n",
      " [10 12]\n",
      " [22 21]\n",
      " [11 23]\n",
      " [35 20]\n",
      " [43 23]\n",
      " [22 12]]\n"
     ]
    }
   ],
   "source": [
    "print('8x2')\n",
    "print(ar.reshape(8,2))"
   ]
  },
  {
   "cell_type": "code",
   "execution_count": 53,
   "metadata": {},
   "outputs": [
    {
     "name": "stdout",
     "output_type": "stream",
     "text": [
      "2x3\n",
      "[[16 44 46 49 10 12 22 21]\n",
      " [11 23 35 20 43 23 22 12]]\n"
     ]
    }
   ],
   "source": [
    "print('2x3')\n",
    "print(ar.reshape(2,8))"
   ]
  },
  {
   "cell_type": "code",
   "execution_count": null,
   "metadata": {},
   "outputs": [],
   "source": []
  }
 ],
 "metadata": {
  "kernelspec": {
   "display_name": "Python 3",
   "language": "python",
   "name": "python3"
  },
  "language_info": {
   "codemirror_mode": {
    "name": "ipython",
    "version": 3
   },
   "file_extension": ".py",
   "mimetype": "text/x-python",
   "name": "python",
   "nbconvert_exporter": "python",
   "pygments_lexer": "ipython3",
   "version": "3.12.4"
  }
 },
 "nbformat": 4,
 "nbformat_minor": 2
}
