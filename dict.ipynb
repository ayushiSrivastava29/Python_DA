{
 "cells": [
  {
   "cell_type": "markdown",
   "metadata": {},
   "source": [
    "Topic - Dictionary "
   ]
  },
  {
   "cell_type": "markdown",
   "metadata": {},
   "source": [
    "- how to declare dictionary\n",
    "- how to access key and values \n",
    "- how to use loops in dictionary\n",
    "- indexing in dictionary"
   ]
  },
  {
   "cell_type": "code",
   "execution_count": 1,
   "metadata": {},
   "outputs": [
    {
     "name": "stdout",
     "output_type": "stream",
     "text": [
      "{'name': 'Ayushi', 'age': 22, 'course': 'Python', 'marks': 45}\n"
     ]
    }
   ],
   "source": [
    "student = {\n",
    "    \"name\" : \"Ayushi\" ,\n",
    "    \"age\" : 22 , \n",
    "    \"course\" : \"Python\" ,\n",
    "    \"marks\" : 45\n",
    "}\n",
    "print(student)"
   ]
  },
  {
   "cell_type": "code",
   "execution_count": 4,
   "metadata": {},
   "outputs": [
    {
     "name": "stdout",
     "output_type": "stream",
     "text": [
      "{'name': 'Ayushi', 'age': 22, 'course': 'Python', 'marks': 45}\n"
     ]
    }
   ],
   "source": [
    "info = dict( name = \"Ayushi\" , age = 22 , course = \"Python\" , marks =  45)\n",
    "print(info)"
   ]
  },
  {
   "cell_type": "code",
   "execution_count": 5,
   "metadata": {},
   "outputs": [
    {
     "name": "stdout",
     "output_type": "stream",
     "text": [
      "{'name': 'Ayushi', 'age': 22, 'course': 'java', 'marks': 30}\n"
     ]
    }
   ],
   "source": [
    "info = dict( name = input(\"Enter your name: \") , age = int(input(\"Enter your age: \")) , \n",
    "            course = input(\"Enter your course: \"), marks = int(input(\"Enter your age: \")))\n",
    "print(info)"
   ]
  },
  {
   "cell_type": "code",
   "execution_count": null,
   "metadata": {},
   "outputs": [
    {
     "name": "stdout",
     "output_type": "stream",
     "text": [
      "{'Myntra': [22, 24], 'Snapchat': [23, 34], 'Whatsapp': [25, 30]}\n"
     ]
    }
   ],
   "source": [
    "# multiple value dictionary\n",
    "apps = {\n",
    "    'Myntra' : [22 , 24] ,\n",
    "    'Snapchat' : [23 , 34],\n",
    "    'Whatsapp' : [25 , 30]\n",
    "}\n",
    "print(apps)"
   ]
  },
  {
   "cell_type": "code",
   "execution_count": null,
   "metadata": {},
   "outputs": [
    {
     "name": "stdout",
     "output_type": "stream",
     "text": [
      "java\n",
      "[25, 30]\n"
     ]
    }
   ],
   "source": [
    "#1st method to access values through keys\n",
    "print(info['course'])\n",
    "print(apps['Whatsapp'])"
   ]
  },
  {
   "cell_type": "code",
   "execution_count": null,
   "metadata": {},
   "outputs": [
    {
     "name": "stdout",
     "output_type": "stream",
     "text": [
      "22\n"
     ]
    }
   ],
   "source": [
    "#2nd method to access values through keys\n",
    "print(info.get('age'))"
   ]
  },
  {
   "cell_type": "code",
   "execution_count": 11,
   "metadata": {},
   "outputs": [
    {
     "name": "stdout",
     "output_type": "stream",
     "text": [
      "{'name': 'Ayushi', 'age': 22, 'course': 'java', 'marks': 30, 'HomeTown': 'Azamgarh'}\n"
     ]
    }
   ],
   "source": [
    "#to add item in a dictionary\n",
    "info['HomeTown'] = 'Azamgarh'\n",
    "print(info)"
   ]
  },
  {
   "cell_type": "code",
   "execution_count": 14,
   "metadata": {},
   "outputs": [
    {
     "name": "stdout",
     "output_type": "stream",
     "text": [
      "dict_keys(['name', 'age', 'course', 'marks', 'HomeTown'])\n",
      "dict_values(['Ayushi', 22, 'java', 30, 'Azamgarh'])\n",
      "dict_items([('name', 'Ayushi'), ('age', 22), ('course', 'java'), ('marks', 30), ('HomeTown', 'Azamgarh')])\n"
     ]
    }
   ],
   "source": [
    "print(info.keys())\n",
    "print(info.values())\n",
    "print(info.items())"
   ]
  },
  {
   "cell_type": "markdown",
   "metadata": {},
   "source": [
    "Loops in dictionary"
   ]
  },
  {
   "cell_type": "code",
   "execution_count": 19,
   "metadata": {},
   "outputs": [
    {
     "name": "stdout",
     "output_type": "stream",
     "text": [
      "name : Ayushi\n",
      "age : 22\n",
      "course : java\n",
      "marks : 30\n",
      "HomeTown : Azamgarh\n"
     ]
    }
   ],
   "source": [
    "for k, v in info.items():\n",
    "    print( f'{k} : {v}')"
   ]
  },
  {
   "cell_type": "code",
   "execution_count": 22,
   "metadata": {},
   "outputs": [
    {
     "name": "stdout",
     "output_type": "stream",
     "text": [
      "{'emp001': {'name': 'Rahul', 'age': 25, 'dept': 'IT', 'salary': 25000}, 'emp002': {'name': 'Adarsh', 'age': 26, 'dept': 'HR', 'salary': 30000}, 'emp003': {'name': 'Yashi', 'age': 23, 'dept': 'BPO', 'salary': 20000}}\n"
     ]
    }
   ],
   "source": [
    "company = {\n",
    "    'emp001' :{\n",
    "     'name' : 'Rahul', \n",
    "     'age' : 25 ,\n",
    "     'dept' : 'IT',\n",
    "     'salary' : 25000 \n",
    "    },\n",
    "    'emp002' :{\n",
    "     'name' : 'Adarsh', \n",
    "     'age' : 26 ,\n",
    "     'dept' : 'HR',\n",
    "     'salary' : 30000 \n",
    "    },\n",
    "    'emp003' : {\n",
    "     'name' : 'Yashi', \n",
    "     'age' : 23 ,\n",
    "     'dept' : 'BPO',\n",
    "     'salary' : 20000 \n",
    "    }\n",
    "}\n",
    "print(company)"
   ]
  },
  {
   "cell_type": "code",
   "execution_count": 23,
   "metadata": {},
   "outputs": [],
   "source": [
    "from pprint import pprint"
   ]
  },
  {
   "cell_type": "code",
   "execution_count": 24,
   "metadata": {},
   "outputs": [
    {
     "name": "stdout",
     "output_type": "stream",
     "text": [
      "{'emp001': {'age': 25, 'dept': 'IT', 'name': 'Rahul', 'salary': 25000},\n",
      " 'emp002': {'age': 26, 'dept': 'HR', 'name': 'Adarsh', 'salary': 30000},\n",
      " 'emp003': {'age': 23, 'dept': 'BPO', 'name': 'Yashi', 'salary': 20000}}\n"
     ]
    }
   ],
   "source": [
    "pprint(company)"
   ]
  },
  {
   "cell_type": "code",
   "execution_count": 28,
   "metadata": {},
   "outputs": [
    {
     "name": "stdout",
     "output_type": "stream",
     "text": [
      "30000\n",
      "24\n"
     ]
    }
   ],
   "source": [
    "print(company['emp002']['salary'])\n",
    "print(apps['Myntra'][1])"
   ]
  },
  {
   "cell_type": "code",
   "execution_count": 32,
   "metadata": {},
   "outputs": [
    {
     "name": "stdout",
     "output_type": "stream",
     "text": [
      "30.333333333333332\n",
      "26.666666666666668\n"
     ]
    }
   ],
   "source": [
    "temp = {\n",
    "    'lucknow' : [25,32,34],\n",
    "    'Azamgarh' : [24,32,24]\n",
    "}\n",
    "print(sum(temp['lucknow'])/len(temp['lucknow']))\n",
    "print(sum(temp['Azamgarh'])/len(temp['Azamgarh']))"
   ]
  },
  {
   "cell_type": "code",
   "execution_count": null,
   "metadata": {},
   "outputs": [],
   "source": []
  },
  {
   "cell_type": "markdown",
   "metadata": {},
   "source": []
  }
 ],
 "metadata": {
  "kernelspec": {
   "display_name": "Python 3",
   "language": "python",
   "name": "python3"
  },
  "language_info": {
   "codemirror_mode": {
    "name": "ipython",
    "version": 3
   },
   "file_extension": ".py",
   "mimetype": "text/x-python",
   "name": "python",
   "nbconvert_exporter": "python",
   "pygments_lexer": "ipython3",
   "version": "3.12.4"
  }
 },
 "nbformat": 4,
 "nbformat_minor": 2
}
