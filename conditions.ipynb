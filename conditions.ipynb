{
 "cells": [
  {
   "cell_type": "markdown",
   "metadata": {},
   "source": [
    "Conditions In Python"
   ]
  },
  {
   "cell_type": "markdown",
   "metadata": {},
   "source": [
    "-- is used to control the flow of a program.\n",
    "- if , if-else , elif , nested if"
   ]
  },
  {
   "cell_type": "code",
   "execution_count": 2,
   "metadata": {},
   "outputs": [
    {
     "name": "stdout",
     "output_type": "stream",
     "text": [
      "Start of the week!\n"
     ]
    }
   ],
   "source": [
    "day = \"Monday\"\n",
    "\n",
    "match day:\n",
    "    case \"Monday\":\n",
    "        print(\"Start of the week!\")\n",
    "    case \"Friday\":\n",
    "        print(\"Weekend is near!\")\n",
    "    case _:\n",
    "        print(\"It's a regular day.\")\n"
   ]
  },
  {
   "cell_type": "code",
   "execution_count": 3,
   "metadata": {},
   "outputs": [
    {
     "name": "stdout",
     "output_type": "stream",
     "text": [
      "A\n",
      "B\n"
     ]
    }
   ],
   "source": [
    "marks = 50 \n",
    "if marks >= 45:\n",
    "    print('A')\n",
    "if marks >= 50:\n",
    "    print('B')\n",
    "if marks >= 65:\n",
    "    print('C')\n",
    "if marks >= 70:\n",
    "    print('D')\n",
    "if marks <= 45:\n",
    "    print(\"Fail\")"
   ]
  },
  {
   "cell_type": "code",
   "execution_count": 4,
   "metadata": {},
   "outputs": [
    {
     "name": "stdout",
     "output_type": "stream",
     "text": [
      "A\n"
     ]
    }
   ],
   "source": [
    "marks = 50 \n",
    "if marks >= 45:\n",
    "    print('A')\n",
    "elif marks >= 50:\n",
    "    print('B')\n",
    "elif marks >= 65:\n",
    "    print('C')\n",
    "elif marks >= 70:\n",
    "    print('D')\n",
    "else :\n",
    "    print(\"Fail\")"
   ]
  },
  {
   "cell_type": "markdown",
   "metadata": {},
   "source": [
    "Questions on Conditions"
   ]
  },
  {
   "cell_type": "code",
   "execution_count": 5,
   "metadata": {},
   "outputs": [
    {
     "name": "stdout",
     "output_type": "stream",
     "text": [
      "Armstrong Number\n"
     ]
    }
   ],
   "source": [
    "# Program to check Armstrong Number\n",
    "num = int(input(\"Enter a Number: \"))\n",
    "\n",
    "length = len(str(num))\n",
    "sum=0\n",
    "temp = num\n",
    "\n",
    "while(temp !=0):\n",
    "    sum = sum + ((temp%10)** length)\n",
    "    temp= temp//10\n",
    "\n",
    "if sum == num :\n",
    "    print(\"Armstrong Number\")\n",
    "else : \n",
    "    print(\"Not armstrong Number\")"
   ]
  },
  {
   "cell_type": "code",
   "execution_count": 6,
   "metadata": {},
   "outputs": [
    {
     "name": "stdout",
     "output_type": "stream",
     "text": [
      "Even number\n"
     ]
    }
   ],
   "source": [
    "num1 = int(input(\"Enter a Number: \"))\n",
    "\n",
    "if num1%2==0:\n",
    "    print(\"Even number\")\n",
    "else :\n",
    "    print(\"Odd Number\")"
   ]
  },
  {
   "cell_type": "code",
   "execution_count": null,
   "metadata": {},
   "outputs": [],
   "source": [
    "def triangle_type(a, b, c):\n",
    "    if a == b == c:\n",
    "        return \"Equilateral Triangle\"\n",
    "    elif a == b or b == c or a == c:\n",
    "        return \"Isosceles Triangle\"\n",
    "    else:\n",
    "        return \"Scalene Triangle\"\n",
    "\n",
    "# Example input\n",
    "a = float(input(\"Enter side 1: \"))\n",
    "b = float(input(\"Enter side 2: \"))\n",
    "c = float(input(\"Enter side 3: \"))\n",
    "\n",
    "# Check if it's a valid triangle\n",
    "if a + b > c and a + c > b and b + c > a:\n",
    "    print(\"The triangle is:\", triangle_type(a, b, c))\n",
    "else:\n",
    "    print(\"Invalid Triangle! The sum of any two sides must be greater than the third side.\")\n"
   ]
  },
  {
   "cell_type": "markdown",
   "metadata": {},
   "source": [
    "Nested If Examples"
   ]
  },
  {
   "cell_type": "code",
   "execution_count": null,
   "metadata": {},
   "outputs": [
    {
     "name": "stdout",
     "output_type": "stream",
     "text": [
      "Hurray ! Registered Succesfully\n"
     ]
    }
   ],
   "source": [
    "username = input(\"Enter your username:\")\n",
    "email = input(\"Enter your email: \")\n",
    "password = input(\"Enter your password: \")\n",
    "cpass = input(\"Re-enter your password: \")\n",
    "if len(username)>5 and len(username)<15:\n",
    "    if '@' in email and len(email)>10:\n",
    "        if len(password)>5 and len(password)<=10:\n",
    "            if password == cpass :\n",
    "                print(\"Hurray ! Registered Succesfully\")\n",
    "            else :\n",
    "                print(\"password mismatch\")\n",
    "            \n",
    "        else :\n",
    "            print(\"Incorrect Password\")\n",
    "        \n",
    "    else : \n",
    "        print(\"Invalid email\")\n",
    "else : \n",
    "    print (\"Invalid username\")"
   ]
  },
  {
   "cell_type": "code",
   "execution_count": null,
   "metadata": {},
   "outputs": [
    {
     "name": "stdout",
     "output_type": "stream",
     "text": [
      "Palindrome Number\n"
     ]
    }
   ],
   "source": [
    "# Palindrome Number\n",
    "n = int(input(\"Enter a number: \"))\n",
    "rev = 0\n",
    "temp = n \n",
    "while n>0 :\n",
    "    rem = n % 10\n",
    "    rev = (rev*10) + rem \n",
    "    n //= 10\n",
    "if rev == temp :\n",
    "    print(\"Palindrome Number\")\n",
    "else :\n",
    "    print (\"Not a Palindrome Number\")"
   ]
  },
  {
   "cell_type": "code",
   "execution_count": null,
   "metadata": {},
   "outputs": [
    {
     "name": "stdout",
     "output_type": "stream",
     "text": [
      "Not a Armstrong Number\n"
     ]
    }
   ],
   "source": [
    "n = int(input(\"Enter a number: \"))\n",
    "sum = 0\n",
    "temp = n \n",
    "while n>0 :\n",
    "    rem = n % 10\n",
    "    sum += rem ** 3 \n",
    "    n //= 10\n",
    "\n",
    "if sum == temp :\n",
    "    print(\"Armstrong Number\")\n",
    "else :\n",
    "    print (\"Not a Armstrong Number\")"
   ]
  },
  {
   "cell_type": "markdown",
   "metadata": {},
   "source": [
    "Loops in python"
   ]
  },
  {
   "cell_type": "code",
   "execution_count": null,
   "metadata": {},
   "outputs": [
    {
     "name": "stdout",
     "output_type": "stream",
     "text": [
      "Harry Hermoine Draco Drake Lilly Neville "
     ]
    }
   ],
   "source": [
    "Characters = [\"Harry\", \"Hermoine\" , \"Draco\" , \"Drake\" , \"Lilly\" , \"Neville\"]\n",
    "for i in Characters :\n",
    "    print (i , end =\" \")"
   ]
  },
  {
   "cell_type": "code",
   "execution_count": null,
   "metadata": {},
   "outputs": [
    {
     "name": "stdout",
     "output_type": "stream",
     "text": [
      "A\n",
      "y\n",
      "u\n",
      "s\n",
      "h\n",
      "i\n"
     ]
    }
   ],
   "source": [
    "name = \"Ayushi\"\n",
    "for i in name:\n",
    "    print(i)"
   ]
  },
  {
   "cell_type": "markdown",
   "metadata": {},
   "source": [
    "Python Day-5 Topic- Lists & Methods"
   ]
  },
  {
   "cell_type": "markdown",
   "metadata": {},
   "source": [
    "- append - to add an element at the end of the list \n",
    "- insert - to add an element at the specific position\n",
    "- pop - to delete an element using the index\n",
    "- remove - to delete an element using the element name \n",
    "- copy - to make a copy of the list \n",
    "- clear - to delete all items of the list but not the list\n",
    "- sort - to arrange the items in a particular order\n",
    "- extend - to combine two list into one list"
   ]
  },
  {
   "cell_type": "code",
   "execution_count": 2,
   "metadata": {},
   "outputs": [
    {
     "name": "stdout",
     "output_type": "stream",
     "text": [
      "['Harry', 'Hermoine', 'Draco', 'Drake', 'Lilly', 'Neville', 'Lily']\n"
     ]
    }
   ],
   "source": [
    "Characters = [\"Harry\", \"Hermoine\" , \"Draco\" , \"Drake\" , \"Lilly\" , \"Neville\"]\n",
    "Characters.append(\"Lily\")\n",
    "print(Characters)"
   ]
  },
  {
   "cell_type": "code",
   "execution_count": 3,
   "metadata": {},
   "outputs": [
    {
     "name": "stdout",
     "output_type": "stream",
     "text": [
      "['Harry', 'Hermoine', 'Ronald', 'Draco', 'Drake', 'Lilly', 'Neville', 'Lily']\n"
     ]
    }
   ],
   "source": [
    "Characters.insert(2,\"Ronald\")\n",
    "print(Characters)"
   ]
  },
  {
   "cell_type": "code",
   "execution_count": 4,
   "metadata": {},
   "outputs": [
    {
     "name": "stdout",
     "output_type": "stream",
     "text": [
      "['Harry', 'Hermoine', 'Ronald', 'Drake', 'Lilly', 'Neville', 'Lily']\n"
     ]
    }
   ],
   "source": [
    "Characters.pop(3)\n",
    "print(Characters)"
   ]
  },
  {
   "cell_type": "code",
   "execution_count": 5,
   "metadata": {},
   "outputs": [
    {
     "name": "stdout",
     "output_type": "stream",
     "text": [
      "['Harry', 'Hermoine', 'Ronald', 'Drake', 'Lilly', 'Neville', 'Lily']\n"
     ]
    }
   ],
   "source": [
    "Characters.copy()\n",
    "print(Characters)"
   ]
  },
  {
   "cell_type": "code",
   "execution_count": 6,
   "metadata": {},
   "outputs": [
    {
     "name": "stdout",
     "output_type": "stream",
     "text": [
      "[]\n"
     ]
    }
   ],
   "source": [
    "Characters.clear()\n",
    "print(Characters)"
   ]
  },
  {
   "cell_type": "code",
   "execution_count": 8,
   "metadata": {},
   "outputs": [
    {
     "name": "stdout",
     "output_type": "stream",
     "text": [
      "['Neville', 'Lilly', 'Drake', 'Draco', 'Hermoine', 'Harry']\n"
     ]
    }
   ],
   "source": [
    "Characters = [\"Harry\", \"Hermoine\" , \"Draco\" , \"Drake\" , \"Lilly\" , \"Neville\"]\n",
    "Characters.reverse()\n",
    "print(Characters)"
   ]
  },
  {
   "cell_type": "code",
   "execution_count": 9,
   "metadata": {},
   "outputs": [
    {
     "name": "stdout",
     "output_type": "stream",
     "text": [
      "['Ginny', 'Fred', 'George', 'Lucious', 'Neville', 'Lilly', 'Drake', 'Draco', 'Hermoine', 'Harry']\n"
     ]
    }
   ],
   "source": [
    "Char = [\"Ginny\" , \"Fred\", \"George\" , \"Lucious\"]\n",
    "Char.extend(Characters)\n",
    "print(Char)"
   ]
  },
  {
   "cell_type": "markdown",
   "metadata": {},
   "source": [
    "Strings in Python"
   ]
  },
  {
   "cell_type": "code",
   "execution_count": 16,
   "metadata": {},
   "outputs": [
    {
     "name": "stdout",
     "output_type": "stream",
     "text": [
      "Ayushi Srivastava\n",
      "A y u s h i   S r i v a s t a v a "
     ]
    }
   ],
   "source": [
    "str = \"Ayushi Srivastava\"\n",
    "print(str)\n",
    "for i in str :\n",
    "    print(i , end=\" \")\n"
   ]
  },
  {
   "cell_type": "code",
   "execution_count": 20,
   "metadata": {},
   "outputs": [
    {
     "name": "stdout",
     "output_type": "stream",
     "text": [
      "Ayushi\n",
      "Srivastava\n"
     ]
    }
   ],
   "source": [
    "print(str[0:6])\n",
    "print(str[-10:])"
   ]
  },
  {
   "cell_type": "code",
   "execution_count": null,
   "metadata": {},
   "outputs": [],
   "source": []
  }
 ],
 "metadata": {
  "kernelspec": {
   "display_name": "Python 3",
   "language": "python",
   "name": "python3"
  },
  "language_info": {
   "codemirror_mode": {
    "name": "ipython",
    "version": 3
   },
   "file_extension": ".py",
   "mimetype": "text/x-python",
   "name": "python",
   "nbconvert_exporter": "python",
   "pygments_lexer": "ipython3",
   "version": "3.12.4"
  }
 },
 "nbformat": 4,
 "nbformat_minor": 2
}
